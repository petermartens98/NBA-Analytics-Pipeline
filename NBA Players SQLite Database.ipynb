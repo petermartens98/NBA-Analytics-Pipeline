{
 "cells": [
  {
   "cell_type": "markdown",
   "id": "6d85b465",
   "metadata": {},
   "source": [
    "## NBA Players Data Webscraping to Pandas Dataframe to SQLite Database"
   ]
  },
  {
   "cell_type": "markdown",
   "id": "8a546a3a",
   "metadata": {},
   "source": [
    "### Necessary Imports"
   ]
  },
  {
   "cell_type": "code",
   "execution_count": 1,
   "id": "b993867f",
   "metadata": {},
   "outputs": [],
   "source": [
    "import sqlite3\n",
    "import pandas as pd"
   ]
  },
  {
   "cell_type": "markdown",
   "id": "3219ac51",
   "metadata": {},
   "source": [
    "### Team Names + Abbreviations Dictionaries"
   ]
  },
  {
   "cell_type": "code",
   "execution_count": 2,
   "id": "cbca56ae",
   "metadata": {},
   "outputs": [],
   "source": [
    "team_names =     ['Utah Jazz', 'Sacramento Kings', 'Washington Wizards',\n",
    "                  'Boston Celtics', 'Milwaukee Bucks', 'Oklahoma City Thunder',\n",
    "                  'Chicago Bulls', 'Phoenix Suns', 'Philadelphia 76ers',\n",
    "                  'New Orleans Pelicans', 'Charlotte Hornets', 'Los Angeles Lakers',\n",
    "                  'Indiana Pacers', 'Toronto Raptors', 'Cleveland Cavaliers',\n",
    "                  'Denver Nuggets', 'Minnesota Timberwolves', 'Brooklyn Nets',\n",
    "                  'San Antonio Spurs', 'Dallas Mavericks', 'Houston Rockets',\n",
    "                  'Detroit Pistons', 'Portland Trail Blazers', 'Atlanta Hawks',\n",
    "                  'Golden State Warriors', 'Miami Heat', 'Los Angeles Clippers',\n",
    "                  'New York Knicks', 'Memphis Grizzlies', 'Orlando Magic']\n",
    "\n",
    "team_abbrs =     ['UTAH', 'SAC', 'WAS', 'BOS', 'MIL', 'OKC', 'CHI', 'PHX', 'PHI',\n",
    "                  'NO', 'CHA', 'LAL', 'IND', 'TOR', 'CLE', 'DEN', 'MIN', 'BKN',\n",
    "                  'SAS', 'DAL', 'HOU', 'DET', 'POR', 'ATL', 'GSW', 'MIA', 'LAC',\n",
    "                  'NYK', 'MEM', 'ORL']\n",
    "\n",
    "team_name_abbr_dict = {}\n",
    "team_abbr_name_dict = {}\n",
    "\n",
    "for i in range(len(team_names)):\n",
    "    team_name_abbr_dict[team_names[i]]=team_abbrs[i]\n",
    "\n",
    "for i in range(len(team_abbrs)):\n",
    "    team_abbr_name_dict[team_abbrs[i]]=team_names[i]"
   ]
  },
  {
   "cell_type": "markdown",
   "id": "daf07a38",
   "metadata": {},
   "source": [
    "### Webscrape All NBA Players Data into Pandas Dataframe"
   ]
  },
  {
   "cell_type": "code",
   "execution_count": 3,
   "id": "e84ef14c",
   "metadata": {
    "scrolled": false
   },
   "outputs": [],
   "source": [
    "all_players = pd.DataFrame()\n",
    "\n",
    "for i in team_abbrs:\n",
    "    team_name = team_abbr_name_dict[i].lower().replace(\" \",\"-\")\n",
    "    players = pd.read_html(f'https://www.espn.com/nba/team/roster/_/name/{i.lower()}/{team_name}')[0]\n",
    "    players = players.drop(columns='Unnamed: 0')\n",
    "    players[['Name', 'Number']] = players['Name'].str.extract('(\\D+)(\\d+)', expand=True)\n",
    "\n",
    "    col_name=\"Number\"\n",
    "    num_col = players.pop(col_name)\n",
    "    players.insert(1, col_name, num_col)\n",
    "    \n",
    "    players.insert(0, 'TEAM', i)\n",
    "    \n",
    "    all_players = all_players.append(players)\n",
    "\n",
    "all_players = all_players.reset_index(drop=True)"
   ]
  },
  {
   "cell_type": "markdown",
   "id": "a8388435",
   "metadata": {},
   "source": [
    "### Convert to All Numeric Values"
   ]
  },
  {
   "cell_type": "markdown",
   "id": "b7775ec0",
   "metadata": {},
   "source": [
    "#### Height to Inches"
   ]
  },
  {
   "cell_type": "code",
   "execution_count": 4,
   "id": "4b7e43ea",
   "metadata": {},
   "outputs": [],
   "source": [
    "def height_to_inches(height_str):\n",
    "    feet, inches = height_str.split(\"' \")\n",
    "    return int(feet) * 12 + int(inches[:-1])"
   ]
  },
  {
   "cell_type": "code",
   "execution_count": 5,
   "id": "881313c4",
   "metadata": {},
   "outputs": [],
   "source": [
    "all_players.HT = all_players.HT.apply(height_to_inches)\n",
    "all_players = all_players.rename(columns = {'HT':'HT_in'})"
   ]
  },
  {
   "cell_type": "markdown",
   "id": "48cd716f",
   "metadata": {},
   "source": [
    "#### Player Weights"
   ]
  },
  {
   "cell_type": "code",
   "execution_count": 6,
   "id": "3f006579",
   "metadata": {},
   "outputs": [],
   "source": [
    "all_players.WT = all_players.WT.str.rstrip(\" lbs\")\n",
    "all_players = all_players.rename(columns = {'WT':'WT_lb'})"
   ]
  },
  {
   "cell_type": "markdown",
   "id": "8786deca",
   "metadata": {},
   "source": [
    "#### Player Salary"
   ]
  },
  {
   "cell_type": "code",
   "execution_count": 7,
   "id": "433d7526",
   "metadata": {},
   "outputs": [],
   "source": [
    "try:\n",
    "    all_players.Salary = all_players.Salary.str.replace('[\\$\\,]|\\.\\d*', '',regex=True).astype(int)\n",
    "except ValueError:\n",
    "    pass"
   ]
  },
  {
   "cell_type": "markdown",
   "id": "9c5d99d1",
   "metadata": {},
   "source": [
    "### Save DataFrame to CSV for Future Usage"
   ]
  },
  {
   "cell_type": "code",
   "execution_count": 8,
   "id": "fddc5d6e",
   "metadata": {},
   "outputs": [],
   "source": [
    "all_players.to_csv('NBA_Player_Bios.csv')"
   ]
  },
  {
   "cell_type": "markdown",
   "id": "4c1905d0",
   "metadata": {},
   "source": [
    "### Optional: Display Player Dataframe to Ensure Webscraping and Conversion was Succesful"
   ]
  },
  {
   "cell_type": "code",
   "execution_count": 9,
   "id": "d0aa0826",
   "metadata": {
    "scrolled": true
   },
   "outputs": [],
   "source": [
    "#pd.set_option('display.max_rows', 500)\n",
    "#all_players"
   ]
  },
  {
   "cell_type": "markdown",
   "id": "35758c71",
   "metadata": {},
   "source": [
    "### Define and Connect Database and Cursor"
   ]
  },
  {
   "cell_type": "code",
   "execution_count": 10,
   "id": "ec1cd497",
   "metadata": {},
   "outputs": [],
   "source": [
    "db = sqlite3.connect('Databases/NBA_Players.db')\n",
    "cur = db.cursor()"
   ]
  },
  {
   "cell_type": "markdown",
   "id": "947afd53",
   "metadata": {},
   "source": [
    "### Define NBA Players SQL Database Table and Column Values"
   ]
  },
  {
   "cell_type": "code",
   "execution_count": 11,
   "id": "b72126b8",
   "metadata": {},
   "outputs": [
    {
     "data": {
      "text/plain": [
       "<sqlite3.Cursor at 0x205b6590960>"
      ]
     },
     "execution_count": 11,
     "metadata": {},
     "output_type": "execute_result"
    }
   ],
   "source": [
    "cur.execute('''\n",
    "    CREATE TABLE IF NOT EXISTS NBA_Players(\n",
    "        team text NOT NULL,\n",
    "        name text PRIMARY KEY,\n",
    "        num integer,\n",
    "        pos text NOT NULL,\n",
    "        age integer NOT NULL,\n",
    "        ht_in integer NOT NULL,\n",
    "        wt_lb integer NOT NULL,\n",
    "        college text,\n",
    "        salary integer);\n",
    "''')"
   ]
  },
  {
   "cell_type": "markdown",
   "id": "2cc205bb",
   "metadata": {},
   "source": [
    "### Convert Player DataFrame into a List for SQL Table Insertion"
   ]
  },
  {
   "cell_type": "code",
   "execution_count": 12,
   "id": "16923745",
   "metadata": {
    "scrolled": false
   },
   "outputs": [],
   "source": [
    "players_list = list(all_players.itertuples(index=False, name=None))\n",
    "#players_list"
   ]
  },
  {
   "cell_type": "markdown",
   "id": "78e33587",
   "metadata": {},
   "source": [
    "### Insert Player List Data into SQL Database"
   ]
  },
  {
   "cell_type": "code",
   "execution_count": 13,
   "id": "238e671c",
   "metadata": {},
   "outputs": [
    {
     "data": {
      "text/plain": [
       "<sqlite3.Cursor at 0x205b6590960>"
      ]
     },
     "execution_count": 13,
     "metadata": {},
     "output_type": "execute_result"
    }
   ],
   "source": [
    "cur.executemany('''\n",
    "        INSERT INTO NBA_Players(team,name,num,pos,age,ht_in,wt_lb,college,salary)\n",
    "        VALUES(?,?,?,?,?,?,?,?,?)''', players_list)"
   ]
  },
  {
   "cell_type": "markdown",
   "id": "c405be3f",
   "metadata": {},
   "source": [
    "### Commmit DataBase ~ ends a transaction in RDBMS and makes all changes visible to other users"
   ]
  },
  {
   "cell_type": "code",
   "execution_count": 14,
   "id": "25247fb7",
   "metadata": {},
   "outputs": [],
   "source": [
    "db.commit()"
   ]
  },
  {
   "cell_type": "markdown",
   "id": "a9b5c826",
   "metadata": {},
   "source": [
    "### Close Any Open Cursors"
   ]
  },
  {
   "cell_type": "code",
   "execution_count": 15,
   "id": "03cfff9c",
   "metadata": {},
   "outputs": [],
   "source": [
    "db.close()"
   ]
  }
 ],
 "metadata": {
  "kernelspec": {
   "display_name": "Python 3 (ipykernel)",
   "language": "python",
   "name": "python3"
  },
  "language_info": {
   "codemirror_mode": {
    "name": "ipython",
    "version": 3
   },
   "file_extension": ".py",
   "mimetype": "text/x-python",
   "name": "python",
   "nbconvert_exporter": "python",
   "pygments_lexer": "ipython3",
   "version": "3.9.12"
  }
 },
 "nbformat": 4,
 "nbformat_minor": 5
}
